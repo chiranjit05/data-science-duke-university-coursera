{
 "cells": [
  {
   "cell_type": "code",
   "execution_count": 2,
   "id": "4c8a2bca",
   "metadata": {},
   "outputs": [
    {
     "name": "stdout",
     "output_type": "stream",
     "text": [
      "True\n"
     ]
    }
   ],
   "source": [
    "# membership function\n",
    "# 'in' \n",
    "\n",
    "a = 12\n",
    "b = [12,34,56,34,12,89]\n",
    "print(a in b)"
   ]
  },
  {
   "cell_type": "code",
   "execution_count": 5,
   "id": "1f9858db",
   "metadata": {},
   "outputs": [
    {
     "name": "stdout",
     "output_type": "stream",
     "text": [
      "False\n",
      "True\n"
     ]
    }
   ],
   "source": [
    "# 'not in'\n",
    "print(a not in b)\n",
    "c=100\n",
    "print(c not in b)"
   ]
  },
  {
   "cell_type": "code",
   "execution_count": 9,
   "id": "c4946218",
   "metadata": {},
   "outputs": [
    {
     "name": "stdout",
     "output_type": "stream",
     "text": [
      "m\n",
      "y\n"
     ]
    }
   ],
   "source": [
    "# INDEXING function : \n",
    "\n",
    "n = 'mukul roy'\n",
    "print(n[0])\n",
    "print(n[-1])"
   ]
  },
  {
   "cell_type": "code",
   "execution_count": 11,
   "id": "6d24b3a4",
   "metadata": {},
   "outputs": [
    {
     "name": "stdout",
     "output_type": "stream",
     "text": [
      "kul\n"
     ]
    }
   ],
   "source": [
    "# slicing \n",
    "\n",
    "print(n[2:5])\n",
    "# the ending index is not included in the output, i.e index 5 is excluded from the outout\n",
    "# peint(string[start_ind:end_ind+1])"
   ]
  },
  {
   "cell_type": "code",
   "execution_count": 25,
   "id": "7dc3f7a2",
   "metadata": {},
   "outputs": [
    {
     "name": "stdout",
     "output_type": "stream",
     "text": [
      "mukul r\n",
      "kul roy\n",
      "mukul ro\n",
      " roy\n",
      "mklr\n",
      "yrlkm\n"
     ]
    }
   ],
   "source": [
    "print(n[:7])\n",
    "print(n[2:])\n",
    "print(n[:-1]) # in this case the entire string is not dispplayed as -1 is excluded according to the working of the function.\n",
    "print(n[-4:]) # printed in ascending order \n",
    "# string[start_ind : end_ind +1 :step]\n",
    "print(n[0:-1:2])\n",
    "# NOTE : on making the step a negative value, we get the output in reverse order but with the step gap. \n",
    "print(n[::-2])  # DOUBT : if you put start & end index in this, no o/p will come "
   ]
  },
  {
   "cell_type": "code",
   "execution_count": 41,
   "id": "b4cd91b6",
   "metadata": {},
   "outputs": [
    {
     "name": "stdout",
     "output_type": "stream",
     "text": [
      "length :  109\n",
      "-------------\n",
      " \n",
      "-------------\n",
      "maximum :  y\n"
     ]
    }
   ],
   "source": [
    "# interrogtion functions : \n",
    "g = 'In this case the entire string is not dispplayed as -1 is excluded according to the working  of the function.'\n",
    "\n",
    "print('length : ', len(g))\n",
    "print('-------------')\n",
    "print(min(g))\n",
    "print(\"-------------\")\n",
    "print('maximum : ', max(g))\n"
   ]
  },
  {
   "cell_type": "code",
   "execution_count": 44,
   "id": "68d8097a",
   "metadata": {},
   "outputs": [
    {
     "name": "stdout",
     "output_type": "stream",
     "text": [
      "[5, 'min', 56.9]\n",
      "1\n",
      "1\n"
     ]
    }
   ],
   "source": [
    "l = [5, 'min', 56.9]\n",
    "print(l)\n",
    "print(l.index('min')) # index of an element in the list\n",
    "print(l.count(5))"
   ]
  },
  {
   "cell_type": "code",
   "execution_count": 45,
   "id": "d3f83eb0",
   "metadata": {},
   "outputs": [
    {
     "name": "stdout",
     "output_type": "stream",
     "text": [
      "[1, 2, 3, 4, 5, 6]\n"
     ]
    }
   ],
   "source": [
    "m = [1,2,3]\n",
    "n =[4,5,6]\n",
    "mn= m + n \n",
    "print(mn)"
   ]
  },
  {
   "cell_type": "code",
   "execution_count": 46,
   "id": "520c7ddd",
   "metadata": {},
   "outputs": [
    {
     "name": "stdout",
     "output_type": "stream",
     "text": [
      "h\n"
     ]
    }
   ],
   "source": [
    "print('Kathryn'[3])"
   ]
  },
  {
   "cell_type": "code",
   "execution_count": 50,
   "id": "763566ec",
   "metadata": {},
   "outputs": [
    {
     "name": "stdout",
     "output_type": "stream",
     "text": [
      "3\n",
      "<class 'int'>\n"
     ]
    }
   ],
   "source": [
    "v = [1, 2, 3, 4, 5][-3]\n",
    "print(v)\n",
    "print(type(v))"
   ]
  },
  {
   "cell_type": "code",
   "execution_count": 53,
   "id": "a44e2e69",
   "metadata": {},
   "outputs": [
    {
     "name": "stdout",
     "output_type": "stream",
     "text": [
      "['i', 'n', 'd', 'e', 'x', ' ', 'o', 'f', ' ', 'a', 'n', ' ', 'e', 'l', 'e', 'm', 'e', 'n', 't', ' ', 'i', 'n', ' ', 't', 'h', 'e', ' ', 'l', 'i', 's', 't']\n",
      "<class 'list'>\n",
      "----------------------------\n",
      "('i', 'n', 'd', 'e', 'x', ' ', 'o', 'f', ' ', 'a', 'n', ' ', 'e', 'l', 'e', 'm', 'e', 'n', 't', ' ', 'i', 'n', ' ', 't', 'h', 'e', ' ', 'l', 'i', 's', 't') \n",
      " <class 'tuple'>\n"
     ]
    }
   ],
   "source": [
    "# LISTS AND TUPLES\n",
    "c = 'index of an element in the list'\n",
    "l = list(c)\n",
    "print(l)\n",
    "print(type(l))\n",
    "print('----------------------------')\n",
    "t =  tuple(c)\n",
    "print(t,'\\n',type(t))\n",
    "\n"
   ]
  },
  {
   "cell_type": "code",
   "execution_count": 68,
   "id": "c98063d4",
   "metadata": {},
   "outputs": [
    {
     "name": "stdout",
     "output_type": "stream",
     "text": [
      "['the', 'mike', 'wood', 'kim'] \n",
      "\n",
      "after insert fnct :  ['the', 'holy', 'mike', 'wood', 'kim'] \n",
      "\n",
      "after pop fnct :  ['the', 'holy', 'mike', 'wood'] \n",
      "\n",
      "after this :  ['the', 'holy', 'mike', 'wood', 'ui', 'non']\n"
     ]
    }
   ],
   "source": [
    "# append insert pop \n",
    "l = ['the' , 'mike' , 'wood']\n",
    "\n",
    "#append : \n",
    "l.append('kim')\n",
    "print(l,'\\n')\n",
    "\n",
    "\n",
    "l.insert(1,'holy')\n",
    "print('after insert fnct : ',l,'\\n')\n",
    "\n",
    "l.pop()\n",
    "print('after pop fnct : ',l,'\\n')\n",
    "\n",
    "p = ['ui', 'non']\n",
    "l.extend(p)\n",
    "print('after this : ',l)\n",
    "\n"
   ]
  },
  {
   "cell_type": "code",
   "execution_count": 69,
   "id": "b01ae392",
   "metadata": {},
   "outputs": [
    {
     "name": "stdout",
     "output_type": "stream",
     "text": [
      "u originaly :  [1, 2, 3]\n",
      "after append :  [1, 2, 3, [4, 5]]\n",
      "after extend :  [1, 2, 3, [4, 5], 6, 7, 8]\n"
     ]
    }
   ],
   "source": [
    "#difference l.append(m) and l.extend(m) : \n",
    "# in l.append(m) the new list (m) will be added to the existing list as a list itself \n",
    "# but in l.extend(m) the elements of m will be broken and each element of m will be individually added to l as independent ones.\n",
    "\n",
    "u = [1,2,3]\n",
    "v=[4,5]\n",
    "w= [6,7,8]\n",
    "print('u originaly : ',u)\n",
    "u.append(v)\n",
    "print('after append : ',u)\n",
    "u.extend(w)\n",
    "print('after extend : ',u)\n",
    "\n"
   ]
  },
  {
   "cell_type": "code",
   "execution_count": null,
   "id": "b198eeb7",
   "metadata": {},
   "outputs": [],
   "source": [
    "# NOTE :\n",
    "\n",
    "# ANY OF THE FOLLOWING FUNCTIONS BEING APPLIED ON STRINGS WONT MAKE ANY CHANGE ON THE STRINGS AS\n",
    "# \"      STRINGS ARE IMMUTABLE       \""
   ]
  },
  {
   "cell_type": "code",
   "execution_count": 73,
   "id": "11bc8c7a",
   "metadata": {},
   "outputs": [
    {
     "name": "stdout",
     "output_type": "stream",
     "text": [
      "['b', 'e', 'e', 'e', 'h', 'n', 'o', 't', 'v'] \n",
      " beethoven\n",
      "['a', 'c', 'e', 'e', 'l', 'm', 'n', 'n', 'o', 'r', 't', 'u']\n"
     ]
    }
   ],
   "source": [
    "l = 'beethoven'\n",
    "print(sorted(l),'\\n',l)\n",
    "# note : sorted() function doesnt change content of the original list , but just displays them sorted\n",
    "\n",
    "o = 'nomenclature'\n",
    "\n",
    "p =list(o)\n",
    "p.sort()\n",
    "print(p)"
   ]
  },
  {
   "cell_type": "code",
   "execution_count": 74,
   "id": "d8f156ba",
   "metadata": {},
   "outputs": [
    {
     "name": "stdout",
     "output_type": "stream",
     "text": [
      "[1, 2, 3, 4, 5, 6, 7, 8]\n",
      "[8, 7, 6, 5, 4, 3, 2, 1]\n"
     ]
    }
   ],
   "source": [
    "l = [1,2,3,4,5,6,7,8]\n",
    "print(l)\n",
    "l.reverse()\n",
    "print(l)"
   ]
  },
  {
   "cell_type": "code",
   "execution_count": 75,
   "id": "c48f5306",
   "metadata": {},
   "outputs": [
    {
     "name": "stdout",
     "output_type": "stream",
     "text": [
      "[1, 3]\n"
     ]
    }
   ],
   "source": [
    "a = [1,2,3]\n",
    "a.pop(-2)\n",
    "print(a)\n"
   ]
  },
  {
   "cell_type": "code",
   "execution_count": 76,
   "id": "9ac1e62e",
   "metadata": {},
   "outputs": [
    {
     "data": {
      "text/plain": [
       "'a'"
      ]
     },
     "execution_count": 76,
     "metadata": {},
     "output_type": "execute_result"
    }
   ],
   "source": [
    "\n",
    "['a', 'b', 'c'].pop(0)"
   ]
  },
  {
   "cell_type": "code",
   "execution_count": 85,
   "id": "0d0acc09",
   "metadata": {},
   "outputs": [
    {
     "name": "stdout",
     "output_type": "stream",
     "text": [
      "c:\tam\n",
      "Beethoven\twirl\n",
      "-----------------------------\n",
      "after using raw characters :\n",
      " c:\\tam\\nBeethoven\\twirl\n"
     ]
    }
   ],
   "source": [
    "# raw characters : r\"string\"\n",
    "# note :  the following string has 'escape characters' i.e \\n, \\t which \n",
    "# cause tab and new line. Hence we need #RAW CHARACTERS# \n",
    "\n",
    "p = \"c:\\tam\\nBeethoven\\twirl\"\n",
    "print(p)\n",
    "print(\"-----------------------------\")\n",
    "\n",
    "n = r\"c:\\tam\\nBeethoven\\twirl\"\n",
    "print('after using raw characters :\\n', n)"
   ]
  },
  {
   "cell_type": "code",
   "execution_count": 98,
   "id": "640bdee0",
   "metadata": {},
   "outputs": [
    {
     "name": "stdout",
     "output_type": "stream",
     "text": [
      "This is a testing string\n",
      "this is a testing string\n"
     ]
    }
   ],
   "source": [
    "# string.Capitalize() : Converts 1st character of teh string to capital\n",
    "\n",
    "a = 'this is a testing string'\n",
    "print(a.capitalize())\n",
    "print(a)\n",
    "\n",
    "#NOTE  : .capitalize() function doesnt change the content of the string. \n"
   ]
  },
  {
   "cell_type": "code",
   "execution_count": 91,
   "id": "89e18069",
   "metadata": {},
   "outputs": [
    {
     "data": {
      "text/plain": [
       "'1 this is a thing'"
      ]
     },
     "execution_count": 91,
     "metadata": {},
     "output_type": "execute_result"
    }
   ],
   "source": [
    "# NOTE : in this case .capitalize() didnt capitalize the 1st character of the sentence\n",
    "\n",
    "q ='1 this is a thing'\n",
    "q.capitalize()"
   ]
  },
  {
   "cell_type": "code",
   "execution_count": 97,
   "id": "88b05577",
   "metadata": {},
   "outputs": [
    {
     "name": "stdout",
     "output_type": "stream",
     "text": [
      "THIS IS SOMETHING\n",
      "this IS soMEthing\n",
      "--------------\n",
      "this is something\n",
      "this IS soMEthing\n",
      "--------------\n"
     ]
    }
   ],
   "source": [
    "# UPPER AND LOWER \n",
    "a = 'this IS soMEthing'\n",
    "\n",
    "print(a.upper())\n",
    "print(a)\n",
    "\n",
    "\n",
    "\n",
    "print('--------------')\n",
    "\n",
    "\n",
    "c = 'this IS soMEthing'\n",
    "print(c.lower())\n",
    "print(c)\n",
    "\n",
    "\n",
    "\n",
    "print('--------------')\n",
    "\n",
    "# #NOTE : The content of the original variables a and c are not changed. \n",
    "# Hence .lower() and .upper() donot make any changes in the main string"
   ]
  },
  {
   "cell_type": "code",
   "execution_count": 99,
   "id": "edec8072",
   "metadata": {},
   "outputs": [
    {
     "name": "stdout",
     "output_type": "stream",
     "text": [
      "2\n"
     ]
    }
   ],
   "source": [
    "# RETURNS INDEX OF THE STRING AT WHICH IT WAS 1ST DETECTED IN CASE OF REPITION\n",
    "# IN CASE SUBSTRING IS NOT FOUND , ERROR MESSAGE WILL BE DISPLAYED\n",
    "# string.index()\n",
    "\n",
    "a = 'hello'\n",
    "print(a.index('l'))\n",
    "    "
   ]
  },
  {
   "cell_type": "code",
   "execution_count": 105,
   "id": "a57d7245",
   "metadata": {},
   "outputs": [
    {
     "name": "stdout",
     "output_type": "stream",
     "text": [
      "3\n",
      "-1\n"
     ]
    }
   ],
   "source": [
    "#RETURNS INDEX OF THE STRING AT WHICH IT WAS 1ST DETECTED IN CASE OF REPITION\n",
    "# IN CASE SUBSTRING IS NOT FOUND , -1 WILL BE DISPLAYED\n",
    "\n",
    "#string.find()\n",
    "\n",
    "a = 'someone'\n",
    "print(a.find('e'))\n",
    "print(a.find('z'))"
   ]
  },
  {
   "cell_type": "code",
   "execution_count": 112,
   "id": "66a642e6",
   "metadata": {},
   "outputs": [
    {
     "name": "stdout",
     "output_type": "stream",
     "text": [
      "      this is a simple text   \n",
      "30\n",
      "this is a simple text\n",
      "21\n"
     ]
    }
   ],
   "source": [
    "# string.strip() : any white space at the beginning or end of the text is removed\n",
    "\n",
    "a = '      this is a simple text   '\n",
    "print(a)\n",
    "print(len(a))\n",
    "print(a.strip(' '))\n",
    "print(len(a.strip()))\n",
    "\n",
    "\n",
    "# other similar functions are : .lstrip(), .rstrip()"
   ]
  },
  {
   "cell_type": "code",
   "execution_count": 114,
   "id": "9b6f8db6",
   "metadata": {},
   "outputs": [
    {
     "name": "stdout",
     "output_type": "stream",
     "text": [
      "['this', 'is', 'again', 'a', 'sample', 'text']\n",
      "<class 'list'>\n"
     ]
    }
   ],
   "source": [
    "#  .split()\n",
    "\n",
    "word_str = 'this is again a sample text'\n",
    "\n",
    "\n",
    "word_l = word_str.split(' ')\n",
    "print(word_l)\n",
    "print(type(word_l))"
   ]
  },
  {
   "cell_type": "code",
   "execution_count": 116,
   "id": "e1db2a1a",
   "metadata": {},
   "outputs": [
    {
     "name": "stdout",
     "output_type": "stream",
     "text": [
      "['this', ' is something', ' really ', ' stupid', 'cause']\n"
     ]
    }
   ],
   "source": [
    "# .split() :  string.split(\"some symbol\")\n",
    "# used to split a string about a symbol and store it in a list \n",
    "\n",
    "\n",
    "word = 'this, is something, really , stupid,cause'\n",
    "word_l = word.split(\",\")\n",
    "print(word_l)"
   ]
  },
  {
   "cell_type": "code",
   "execution_count": 117,
   "id": "8b434a61",
   "metadata": {},
   "outputs": [
    {
     "name": "stdout",
     "output_type": "stream",
     "text": [
      "['this', ' is something', ' really ', ' stupid', 'cause']\n",
      "this: is something: really : stupid:cause\n"
     ]
    }
   ],
   "source": [
    "# \"some_symbol\".join(list_name) \n",
    "# join() : used to join all the elements of a list in a single sentence seperated by the mentioned symbol in the \" \"\n",
    "\n",
    "\n",
    "print(word_l)\n",
    "sample = \":\".join(word_l)\n",
    "print(sample)"
   ]
  },
  {
   "cell_type": "code",
   "execution_count": 120,
   "id": "4cee1bbc",
   "metadata": {},
   "outputs": [
    {
     "name": "stdout",
     "output_type": "stream",
     "text": [
      "range(2, 10) <class 'range'>\n",
      "[2, 3, 4, 5, 6, 7, 8, 9]\n"
     ]
    }
   ],
   "source": [
    "#  range()\n",
    "\n",
    "a =range(2,10)\n",
    "print(a, type(a))\n",
    "b =list(a)\n",
    "print(b)"
   ]
  },
  {
   "cell_type": "code",
   "execution_count": 132,
   "id": "21f7b57b",
   "metadata": {},
   "outputs": [
    {
     "name": "stdout",
     "output_type": "stream",
     "text": [
      "48\n",
      "48\n",
      "----------------------\n",
      "96\n",
      "7256\n",
      "range(0, 20, 2)\n",
      "[0, 2, 4, 6, 8, 10, 12, 14, 16, 18]\n",
      "136\n"
     ]
    }
   ],
   "source": [
    "# NOTE : Despit of the value inside range() function changing, the size doesnt change : \n",
    "\n",
    "import sys\n",
    "c = range(5)\n",
    "d=range(900)\n",
    "print(sys.getsizeof(c))\n",
    "print(sys.getsizeof(d))\n",
    "print('----------------------')\n",
    "e = list(c)\n",
    "f=list(d)\n",
    "print(sys.getsizeof(e))\n",
    "print(sys.getsizeof(f))\n",
    "\n",
    "\n",
    "print(range(0,20,2))\n",
    "print(list(range(0,20,2)))\n",
    "print(sys.getsizeof(list(range(0,20,2))))"
   ]
  },
  {
   "cell_type": "code",
   "execution_count": null,
   "id": "1f153a64",
   "metadata": {},
   "outputs": [],
   "source": []
  }
 ],
 "metadata": {
  "kernelspec": {
   "display_name": "Python 3 (ipykernel)",
   "language": "python",
   "name": "python3"
  },
  "language_info": {
   "codemirror_mode": {
    "name": "ipython",
    "version": 3
   },
   "file_extension": ".py",
   "mimetype": "text/x-python",
   "name": "python",
   "nbconvert_exporter": "python",
   "pygments_lexer": "ipython3",
   "version": "3.9.7"
  }
 },
 "nbformat": 4,
 "nbformat_minor": 5
}
