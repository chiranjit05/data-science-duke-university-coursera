{
 "cells": [
  {
   "cell_type": "code",
   "execution_count": 12,
   "id": "d6979d88",
   "metadata": {},
   "outputs": [
    {
     "name": "stdout",
     "output_type": "stream",
     "text": [
      "{}\n",
      "<class 'dict'>\n"
     ]
    }
   ],
   "source": [
    "# # dictionry work on key-value pair which work on the concept of hash function\n",
    "# # creating blank dictionary :\n",
    "# dict = {}\n",
    "# print(dict)\n",
    "# print(type(dict))\n"
   ]
  },
  {
   "cell_type": "code",
   "execution_count": 59,
   "id": "7f83940a",
   "metadata": {},
   "outputs": [
    {
     "name": "stdout",
     "output_type": "stream",
     "text": [
      "{'n': 'hello', 'g': 'M', 'p': 'F', 4: 'this'}\n",
      "dict_values(['hello', 'M', 'F', 'this'])\n",
      "dict_keys(['n', 'g', 'p', 4])\n",
      "dict_items([('n', 'hello'), ('g', 'M'), ('p', 'F'), (4, 'this')])\n",
      "True\n",
      "True\n",
      "--------------\n",
      "n\n",
      "g\n",
      "p\n",
      "4\n",
      "-------------\n",
      "n\n",
      "hello\n",
      "g\n",
      "M\n",
      "p\n",
      "F\n",
      "4\n",
      "this\n"
     ]
    }
   ],
   "source": [
    "d = {'n' : 'hello', 'g' : 'M', 'p' : 'F', 4 : 'this'}\n",
    "print(d) \n",
    "print(d.values())\n",
    "print(d.keys())\n",
    "print(d.items())\n",
    "print('n' in d)\n",
    "print('hello' in d.values())\n",
    "print('--------------')\n",
    "\n",
    "for key in d :\n",
    "    print(key)\n",
    "print('-------------')\n",
    "for key,value in d.items():\n",
    "    print(key)\n",
    "    print(value)"
   ]
  },
  {
   "cell_type": "code",
   "execution_count": 28,
   "id": "c21a71c7",
   "metadata": {},
   "outputs": [
    {
     "name": "stdout",
     "output_type": "stream",
     "text": [
      "True\n"
     ]
    }
   ],
   "source": [
    "# if the key-value pairs of the dictionary is kept the same, changing the order of the pairs doesnt change the dictionary.\n",
    "\n",
    "print({ 'a' : 16, 'b' : 'money', 'c' : 'donkey'} == {'b' : 'money', 'c' : 'donkey', 'a' : 16})"
   ]
  },
  {
   "cell_type": "code",
   "execution_count": 61,
   "id": "7f5a53e6",
   "metadata": {},
   "outputs": [
    {
     "ename": "TypeError",
     "evalue": "'dict' object is not callable",
     "output_type": "error",
     "traceback": [
      "\u001b[1;31m---------------------------------------------------------------------------\u001b[0m",
      "\u001b[1;31mTypeError\u001b[0m                                 Traceback (most recent call last)",
      "\u001b[1;32mC:\\Users\\DEBANG~1\\AppData\\Local\\Temp/ipykernel_21008/2879385570.py\u001b[0m in \u001b[0;36m<module>\u001b[1;34m\u001b[0m\n\u001b[0;32m      2\u001b[0m \u001b[1;33m\u001b[0m\u001b[0m\n\u001b[0;32m      3\u001b[0m \u001b[0mdata\u001b[0m \u001b[1;33m=\u001b[0m \u001b[1;33m[\u001b[0m\u001b[1;33m[\u001b[0m\u001b[1;34m'Name'\u001b[0m\u001b[1;33m,\u001b[0m \u001b[1;34m'mike'\u001b[0m \u001b[1;33m]\u001b[0m\u001b[1;33m,\u001b[0m \u001b[1;33m[\u001b[0m\u001b[1;34m'Age'\u001b[0m\u001b[1;33m,\u001b[0m \u001b[1;36m16\u001b[0m\u001b[1;33m]\u001b[0m\u001b[1;33m]\u001b[0m\u001b[1;33m\u001b[0m\u001b[1;33m\u001b[0m\u001b[0m\n\u001b[1;32m----> 4\u001b[1;33m \u001b[0mdict\u001b[0m\u001b[1;33m(\u001b[0m\u001b[0mdata\u001b[0m\u001b[1;33m)\u001b[0m\u001b[1;33m\u001b[0m\u001b[1;33m\u001b[0m\u001b[0m\n\u001b[0m",
      "\u001b[1;31mTypeError\u001b[0m: 'dict' object is not callable"
     ]
    }
   ],
   "source": [
    "# another way creating and populating a dictionary : \n",
    "\n",
    "data = [['Name', 'mike' ], ['Age', 16]]\n",
    "dict(data)"
   ]
  },
  {
   "cell_type": "code",
   "execution_count": 37,
   "id": "2a0842d7",
   "metadata": {},
   "outputs": [
    {
     "name": "stdout",
     "output_type": "stream",
     "text": [
      "hello\n"
     ]
    }
   ],
   "source": [
    "c = {'n' : 'hello', 'g' : 'M', 'p' : 'F', 4 : 'this'}\n",
    "print(c['n'])\n"
   ]
  },
  {
   "cell_type": "code",
   "execution_count": 41,
   "id": "e5e08b29",
   "metadata": {},
   "outputs": [
    {
     "name": "stdout",
     "output_type": "stream",
     "text": [
      "hello\n",
      "None\n",
      "not present in the dict\n"
     ]
    }
   ],
   "source": [
    "# note : on using  the [] to fetch the value from dict, if the key is not present in the dict , error message is generated\n",
    "\n",
    "#but if .get() function is used, and key is not present in the dict, None is returned\n",
    "\n",
    "print(c.get('n')) # key present in dict\n",
    "print(c.get('z')) # key not in dict\n",
    "print(c.get('o','not present in the dict')) \n",
    "# # c.get() can take 2 parameters. one is the key to be checked and other\n",
    "# is the follow-up message to be displayed incase the key is not present in the dict\n"
   ]
  },
  {
   "cell_type": "code",
   "execution_count": 45,
   "id": "c122e87b",
   "metadata": {},
   "outputs": [
    {
     "name": "stdout",
     "output_type": "stream",
     "text": [
      "{'n': 'hello', 'g': 'counter', 'p': 'F', 4: 'this'}\n",
      "{'n': 'hello', 'g': 'counter', 'p': 'F', 4: 'this', 'j': 'joker'}\n"
     ]
    }
   ],
   "source": [
    "# editing and adding new content of dict :\n",
    "c = {'n' : 'hello', 'g' : 'M', 'p' : 'F', 4 : 'this'}\n",
    "\n",
    "c['g'] = 'counter'\n",
    "print(c)\n",
    "\n",
    "c['j'] = 'joker'\n",
    "print(c)"
   ]
  },
  {
   "cell_type": "code",
   "execution_count": 48,
   "id": "4b00d091",
   "metadata": {},
   "outputs": [
    {
     "name": "stdout",
     "output_type": "stream",
     "text": [
      "None\n"
     ]
    }
   ],
   "source": [
    "pet_info = { 'Name': 'Charlie', \n",
    "             'Species': 'Dog'}\n",
    "print(pet_info.get(0))"
   ]
  },
  {
   "cell_type": "code",
   "execution_count": 49,
   "id": "c4868c77",
   "metadata": {},
   "outputs": [],
   "source": [
    "pet_info = { 'Name': 'Charlie', \n",
    "             'Species': 'Dog'}\n",
    "pet_info.get(0)"
   ]
  },
  {
   "cell_type": "code",
   "execution_count": 51,
   "id": "1c3f1759",
   "metadata": {},
   "outputs": [
    {
     "data": {
      "text/plain": [
       "'Math'"
      ]
     },
     "execution_count": 51,
     "metadata": {},
     "output_type": "execute_result"
    }
   ],
   "source": [
    "student = { 'Name': 'Chris',\n",
    "            'Major': 'Math'}\n",
    "student['Major'] = 'Economics'\n",
    "student.get('Major', 'Math')"
   ]
  },
  {
   "cell_type": "code",
   "execution_count": 63,
   "id": "d74c2d46",
   "metadata": {},
   "outputs": [
    {
     "name": "stdout",
     "output_type": "stream",
     "text": [
      "set()\n",
      "<class 'set'>\n"
     ]
    }
   ],
   "source": [
    "# SETS : unordered, mutable collection of unique objects\n",
    "#        CANNOT contain mutable objects\n",
    "\n",
    "set()\n",
    "print(set())\n",
    "print(type(set()))"
   ]
  },
  {
   "cell_type": "code",
   "execution_count": 16,
   "id": "082729ee",
   "metadata": {},
   "outputs": [
    {
     "name": "stdout",
     "output_type": "stream",
     "text": [
      "5 \t <class 'set'>\n",
      "{1, 2, 3, 4, 5}\n"
     ]
    }
   ],
   "source": [
    "# creating an empty set of fixed size. \n",
    "\n",
    "man = set(range(5))\n",
    "print(len(man), '\\t',type(man))\n",
    "man = {1,2,3,4,5}\n",
    "print(man)"
   ]
  },
  {
   "cell_type": "code",
   "execution_count": 67,
   "id": "c7a2cf64",
   "metadata": {},
   "outputs": [
    {
     "name": "stdout",
     "output_type": "stream",
     "text": [
      "{'e', 'c', 'a', 'd', 'b', 'f'}\n"
     ]
    }
   ],
   "source": [
    "# set contains unique elements. so no repition allowed\n",
    "\n",
    "s = set('aaabbcccaaddeeff')\n",
    "print(s)"
   ]
  },
  {
   "cell_type": "code",
   "execution_count": 2,
   "id": "4df88de8",
   "metadata": {},
   "outputs": [
    {
     "name": "stdout",
     "output_type": "stream",
     "text": [
      "{'t', 'o', 'i', 'v', 'k', 'w', 'j', 'u', 'y', 'b', 'r', 'l', 'h', 'n', 'e'}\n",
      "----------------\n",
      "{'t', 'o', 'i', 'z', 'v', 'k', 'w', 'j', 'u', 'y', 'b', 'r', 'l', 'h', 'n', 'e'}\n"
     ]
    }
   ],
   "source": [
    "m = 'yuoejrtrtyuiortyuwertvbhjithnlkjh'\n",
    "ms = set(m)\n",
    "print(ms)\n",
    "ms.add('z')\n",
    "print('----------------')\n",
    "print(ms)\n",
    "# note : z is added in the middle randomly and not at the end cause it is unordered."
   ]
  },
  {
   "cell_type": "code",
   "execution_count": 4,
   "id": "7a6c609a",
   "metadata": {},
   "outputs": [
    {
     "name": "stdout",
     "output_type": "stream",
     "text": [
      "False\n",
      "True\n"
     ]
    }
   ],
   "source": [
    "print('A' in ms)\n",
    "print('z' in ms)"
   ]
  },
  {
   "cell_type": "code",
   "execution_count": 14,
   "id": "7ffacd67",
   "metadata": {},
   "outputs": [
    {
     "name": "stdout",
     "output_type": "stream",
     "text": [
      "15\n",
      "{'t', 'o', 'i', 'v', 'k', 'w', 'j', 'u', 'y', 'b', 'r', 'l', 'h', 'n', 'e'}\n",
      "t\n",
      "{'o', 'i', 'v', 'k', 'w', 'j', 'u', 'y', 'b', 'r', 'l', 'h', 'n', 'e'}\n",
      "14\n",
      "None\n",
      "{'o', 'i', 'v', 'k', 'w', 'j', 'u', 'y', 'b', 'l', 'h', 'n', 'e'}\n"
     ]
    }
   ],
   "source": [
    "# as set is unordered in nature, the .pop() function doesnt necessarily remove the last element of the set\n",
    "# instead it removes any random element from the set\n",
    "m = 'yuoejrtrtyuiortyuwertvbhjithnlkjh'\n",
    "ms = set(m)\n",
    "print(len(ms))\n",
    "print(ms)\n",
    "print(ms.pop())\n",
    "print(ms)\n",
    "print(len(ms))\n",
    "print(ms.remove('r'))\n",
    "print(ms)"
   ]
  },
  {
   "cell_type": "code",
   "execution_count": 19,
   "id": "ddaadc97",
   "metadata": {},
   "outputs": [
    {
     "name": "stdout",
     "output_type": "stream",
     "text": [
      "True\n",
      "False\n"
     ]
    }
   ],
   "source": [
    "#disjoint : when 2 sets have NO elements in common, they are called disjoint set\n",
    "\n",
    "a =  {'a','c','e'}\n",
    "b= {'k','o','q'}\n",
    "c= {'s','e','p'}\n",
    "print(a.isdisjoint(b))  \n",
    "print(a.isdisjoint(c))   \n"
   ]
  },
  {
   "cell_type": "code",
   "execution_count": 21,
   "id": "f81c67e9",
   "metadata": {},
   "outputs": [
    {
     "name": "stdout",
     "output_type": "stream",
     "text": [
      "True\n",
      "True\n"
     ]
    }
   ],
   "source": [
    "# subset and superset fucntions : \n",
    "a = {1,2,4,3,6,7,5}\n",
    "b = {3,5,1}\n",
    "\n",
    "print(b.issubset(a))\n",
    "print(a.issuperset(b))"
   ]
  },
  {
   "cell_type": "code",
   "execution_count": 24,
   "id": "ae46aad6",
   "metadata": {},
   "outputs": [
    {
     "name": "stdout",
     "output_type": "stream",
     "text": [
      "{0, 1, 2, 3, 4, 5, 6, 7, 8, 9}\n",
      "set()\n",
      "{1, 2, 7}\n"
     ]
    }
   ],
   "source": [
    "a = {1,2,4,3,6,7,5}\n",
    "b = {0,9,8}\n",
    "c = {0,8,7,1,2}\n",
    "print(a.union(b))\n",
    "print(a.intersection(b))  # empty set is the o/p cause no elements are in common, hence intersectionset is null\n",
    "print(a.intersection(c))"
   ]
  },
  {
   "cell_type": "code",
   "execution_count": 25,
   "id": "b6fca1e4",
   "metadata": {},
   "outputs": [
    {
     "name": "stdout",
     "output_type": "stream",
     "text": [
      "{3, 4, 5, 6}\n"
     ]
    }
   ],
   "source": [
    "a = {1,2,4,3,6,7,5}\n",
    "\n",
    "c = {0,8,7,1,2}\n",
    "\n",
    "print(a.difference(c))\n"
   ]
  },
  {
   "cell_type": "code",
   "execution_count": null,
   "id": "8db6878c",
   "metadata": {},
   "outputs": [],
   "source": []
  }
 ],
 "metadata": {
  "kernelspec": {
   "display_name": "Python 3 (ipykernel)",
   "language": "python",
   "name": "python3"
  },
  "language_info": {
   "codemirror_mode": {
    "name": "ipython",
    "version": 3
   },
   "file_extension": ".py",
   "mimetype": "text/x-python",
   "name": "python",
   "nbconvert_exporter": "python",
   "pygments_lexer": "ipython3",
   "version": "3.9.7"
  }
 },
 "nbformat": 4,
 "nbformat_minor": 5
}
